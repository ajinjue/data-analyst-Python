{
 "cells": [
  {
   "cell_type": "markdown",
   "id": "3387d581-624b-4521-ac7a-435f715f1740",
   "metadata": {},
   "source": [
    "# Land price web scraping project"
   ]
  },
  {
   "cell_type": "code",
   "execution_count": null,
   "id": "7cee9b9c-065b-4800-84c8-1d99f816ae2f",
   "metadata": {},
   "outputs": [],
   "source": []
  }
 ],
 "metadata": {
  "kernelspec": {
   "display_name": "Python 3 (ipykernel)",
   "language": "python",
   "name": "python3"
  },
  "language_info": {
   "codemirror_mode": {
    "name": "ipython",
    "version": 3
   },
   "file_extension": ".py",
   "mimetype": "text/x-python",
   "name": "python",
   "nbconvert_exporter": "python",
   "pygments_lexer": "ipython3",
   "version": "3.9.7"
  }
 },
 "nbformat": 4,
 "nbformat_minor": 5
}
