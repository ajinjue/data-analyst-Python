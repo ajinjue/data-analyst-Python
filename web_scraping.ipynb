{
 "cells": [
  {
   "cell_type": "markdown",
   "id": "3387d581-624b-4521-ac7a-435f715f1740",
   "metadata": {},
   "source": [
    "# Land price web scraping project\n",
    "The data to be scraped is at https://www.jumia.cm/en/land-plots. It contains the location, surface area (squared metre) and the prices per squared metre for various neigborhoods in Litoral region, Cameroon.\n"
   ]
  },
  {
   "cell_type": "markdown",
   "id": "446090fd-b238-4ccd-8f06-809804b65b54",
   "metadata": {},
   "source": [
    "## Steps involved\n",
    "- Import libraries\n",
    "- Create ETL functions\n",
    "- Scrape the data\n",
    "- Create CSV file of the data"
   ]
  },
  {
   "cell_type": "markdown",
   "id": "e5c6c743-56bc-44cf-98a7-c826c8a65382",
   "metadata": {},
   "source": [
    "### 1.) Import libraries"
   ]
  },
  {
   "cell_type": "code",
   "execution_count": 137,
   "id": "2e0ea4b5-3789-461f-a6fa-74e6d0bf77c2",
   "metadata": {},
   "outputs": [],
   "source": [
    "import requests\n",
    "from bs4 import BeautifulSoup\n",
    "import pandas as pd"
   ]
  },
  {
   "cell_type": "markdown",
   "id": "13d61924-c9b3-4d31-b46c-1ce1cb848c6f",
   "metadata": {},
   "source": [
    "### 2.) Create ETL functions"
   ]
  },
  {
   "cell_type": "code",
   "execution_count": 122,
   "id": "30905124-bee6-4e0a-9793-6c6aa7922956",
   "metadata": {},
   "outputs": [],
   "source": [
    "# list to append urls\n",
    "urls_list = []\n",
    "\n",
    "# define first function\n",
    "def get_page_urls(page):\n",
    "    \"\"\" Get URLs on the page and concatenate the base URL to each\n",
    "    \n",
    "    Arg:\n",
    "        page (int): the page number\n",
    "        \n",
    "    Returns:\n",
    "        list: list of URLs\n",
    "    \"\"\"\n",
    "    base_url = 'https://www.jumia.cm'\n",
    "    # Access the web page\n",
    "    response = requests.get(f'https://www.jumia.cm/en/land-plots?page={page}')\n",
    "    # Get the text from the web page\n",
    "    soup = BeautifulSoup(response.text, 'html.parser')\n",
    "    # Find urls of all articles on the web page and append to url_list\n",
    "    list_urls = soup.find_all('article')\n",
    "    for partial_url in list_urls:\n",
    "        new_url = base_url + partial_url.find('a')['href']\n",
    "        urls_list.append(new_url)"
   ]
  },
  {
   "cell_type": "code",
   "execution_count": 123,
   "id": "946b336f-c274-4b43-bcc9-e91f293092df",
   "metadata": {},
   "outputs": [],
   "source": [
    "#get_page_urls(1)"
   ]
  },
  {
   "cell_type": "code",
   "execution_count": 124,
   "id": "32047bf1-3316-4f1b-ba7d-52a2e68422d6",
   "metadata": {},
   "outputs": [],
   "source": [
    "#urls_list"
   ]
  },
  {
   "cell_type": "code",
   "execution_count": 133,
   "id": "a9b679ea-b0ba-4fff-8a8f-435f2f94784e",
   "metadata": {},
   "outputs": [],
   "source": [
    "# list to append items\n",
    "items_list = []\n",
    "\n",
    "# define the second function\n",
    "def extract_transform(url):\n",
    "    \"\"\" Extract items from the URL and transform or clean them\n",
    "    Arg:\n",
    "        url (str): URL of the web page\n",
    "        \n",
    "    Returns:\n",
    "        list: list of dictionaries\n",
    "    \"\"\"\n",
    "    # Access the web page\n",
    "    response = requests.get(url)\n",
    "    # Get the text from the web page\n",
    "    soup = BeautifulSoup(response.text, 'html.parser')\n",
    "    \n",
    "    # Extract items\n",
    "    location = soup.find('span',{'itemprop':'addressLocality'}).get_text()\n",
    "    area = float(soup.find_all('h3')[1].get_text().replace('Area', '').replace(' m2', ''))\n",
    "    price = int(soup.find('span', {'itemprop':'price'}).get_text().replace(',', ''))\n",
    "    seller = soup.find_all('dd')[0].get_text()\n",
    "    \n",
    "    # Create a dictionary to store items\n",
    "    items = {\n",
    "        'Location': location,\n",
    "        'Area': area,\n",
    "        'Price': price,\n",
    "        'Seller': seller\n",
    "    }\n",
    "    # Append items to item_list\n",
    "    items_list.append(items)"
   ]
  },
  {
   "cell_type": "code",
   "execution_count": 126,
   "id": "4da2233d-f55f-45f2-b92b-9fe196030845",
   "metadata": {},
   "outputs": [],
   "source": [
    "#extract_transform(url_list[0])"
   ]
  },
  {
   "cell_type": "code",
   "execution_count": 127,
   "id": "c93532b2-e61c-4557-86ee-534b70a58dc8",
   "metadata": {},
   "outputs": [],
   "source": [
    "#items_list"
   ]
  },
  {
   "cell_type": "markdown",
   "id": "e635ac71-3a57-4bda-b0aa-b9f43f155c7d",
   "metadata": {},
   "source": [
    "### 3.) Scrape the data"
   ]
  },
  {
   "cell_type": "code",
   "execution_count": 128,
   "id": "6880212a-402e-4889-91ee-a01f97e391af",
   "metadata": {},
   "outputs": [],
   "source": [
    "for page in range(1,2):\n",
    "    get_page_urls(page)"
   ]
  },
  {
   "cell_type": "code",
   "execution_count": 129,
   "id": "dae9a20e-58da-4eda-9cf8-625c3b78103f",
   "metadata": {},
   "outputs": [
    {
     "data": {
      "text/plain": [
       "['https://www.jumia.cm/en/terrain-titre-en-or-pid11720026',\n",
       " 'https://www.jumia.cm/en/terrain-tr-s-bien-plac-vendre-a-lendi-quartier-g-n-ral--pid11754625',\n",
       " 'https://www.jumia.cm/en/vente-terrain-titr-de-300m2-logpom-pid11754459',\n",
       " 'https://www.jumia.cm/en/a-vendre-terrain-pid11754165',\n",
       " 'https://www.jumia.cm/en/terrain-vendre--pid11754131',\n",
       " 'https://www.jumia.cm/en/a-vendre-terrain-pid11754083',\n",
       " 'https://www.jumia.cm/en/a-vendre-terrain-pid11754082',\n",
       " 'https://www.jumia.cm/en/a-vendre-terrain-pid11754064',\n",
       " 'https://www.jumia.cm/en/a-vendre-terrain-pid11754031']"
      ]
     },
     "execution_count": 129,
     "metadata": {},
     "output_type": "execute_result"
    }
   ],
   "source": [
    "urls_list"
   ]
  },
  {
   "cell_type": "code",
   "execution_count": 134,
   "id": "4ccd0502-e87b-4d2f-bc78-d28c5d4a8d74",
   "metadata": {},
   "outputs": [],
   "source": [
    "for url in urls_list:\n",
    "    extract_transform(url)"
   ]
  },
  {
   "cell_type": "code",
   "execution_count": 135,
   "id": "ea784984-c1e1-4e91-b54a-44a696ffa083",
   "metadata": {},
   "outputs": [
    {
     "data": {
      "text/plain": [
       "[{'Location': 'Ngaoundéré',\n",
       "  'Area': 500.0,\n",
       "  'Price': 5000000,\n",
       "  'Seller': 'DJUNTU MICHAEL'},\n",
       " {'Location': 'Lendi',\n",
       "  'Area': 500.0,\n",
       "  'Price': 30000,\n",
       "  'Seller': 'Orlande  ngalibassa'},\n",
       " {'Location': 'Logpom',\n",
       "  'Area': 300.0,\n",
       "  'Price': 35000,\n",
       "  'Seller': 'Serge global service'},\n",
       " {'Location': 'Kotto', 'Area': 650.0, 'Price': 60000, 'Seller': 'Edgard'},\n",
       " {'Location': 'Kotto', 'Area': 515.0, 'Price': 38625000, 'Seller': 'Edgard'},\n",
       " {'Location': 'Kotto', 'Area': 400.0, 'Price': 24000000, 'Seller': 'Edgard'},\n",
       " {'Location': 'Kotto', 'Area': 400.0, 'Price': 24000000, 'Seller': 'Edgard'},\n",
       " {'Location': 'Makepe', 'Area': 220.0, 'Price': 28600000, 'Seller': 'Edgard'},\n",
       " {'Location': 'Logbessou',\n",
       "  'Area': 500.0,\n",
       "  'Price': 20000000,\n",
       "  'Seller': 'Edgard'}]"
      ]
     },
     "execution_count": 135,
     "metadata": {},
     "output_type": "execute_result"
    }
   ],
   "source": [
    "items_list"
   ]
  },
  {
   "cell_type": "markdown",
   "id": "e5a73751-707f-4545-9b37-8194b7f18ef8",
   "metadata": {},
   "source": [
    "### 4.) Create CSV file to store the scraped data"
   ]
  },
  {
   "cell_type": "code",
   "execution_count": 138,
   "id": "352c00f1-81b7-4df0-b987-4623f6f6d145",
   "metadata": {},
   "outputs": [
    {
     "data": {
      "text/html": [
       "<div>\n",
       "<style scoped>\n",
       "    .dataframe tbody tr th:only-of-type {\n",
       "        vertical-align: middle;\n",
       "    }\n",
       "\n",
       "    .dataframe tbody tr th {\n",
       "        vertical-align: top;\n",
       "    }\n",
       "\n",
       "    .dataframe thead th {\n",
       "        text-align: right;\n",
       "    }\n",
       "</style>\n",
       "<table border=\"1\" class=\"dataframe\">\n",
       "  <thead>\n",
       "    <tr style=\"text-align: right;\">\n",
       "      <th></th>\n",
       "      <th>Location</th>\n",
       "      <th>Area</th>\n",
       "      <th>Price</th>\n",
       "      <th>Seller</th>\n",
       "    </tr>\n",
       "  </thead>\n",
       "  <tbody>\n",
       "    <tr>\n",
       "      <th>0</th>\n",
       "      <td>Ngaoundéré</td>\n",
       "      <td>500.0</td>\n",
       "      <td>5000000</td>\n",
       "      <td>DJUNTU MICHAEL</td>\n",
       "    </tr>\n",
       "    <tr>\n",
       "      <th>1</th>\n",
       "      <td>Lendi</td>\n",
       "      <td>500.0</td>\n",
       "      <td>30000</td>\n",
       "      <td>Orlande  ngalibassa</td>\n",
       "    </tr>\n",
       "    <tr>\n",
       "      <th>2</th>\n",
       "      <td>Logpom</td>\n",
       "      <td>300.0</td>\n",
       "      <td>35000</td>\n",
       "      <td>Serge global service</td>\n",
       "    </tr>\n",
       "    <tr>\n",
       "      <th>3</th>\n",
       "      <td>Kotto</td>\n",
       "      <td>650.0</td>\n",
       "      <td>60000</td>\n",
       "      <td>Edgard</td>\n",
       "    </tr>\n",
       "    <tr>\n",
       "      <th>4</th>\n",
       "      <td>Kotto</td>\n",
       "      <td>515.0</td>\n",
       "      <td>38625000</td>\n",
       "      <td>Edgard</td>\n",
       "    </tr>\n",
       "    <tr>\n",
       "      <th>5</th>\n",
       "      <td>Kotto</td>\n",
       "      <td>400.0</td>\n",
       "      <td>24000000</td>\n",
       "      <td>Edgard</td>\n",
       "    </tr>\n",
       "    <tr>\n",
       "      <th>6</th>\n",
       "      <td>Kotto</td>\n",
       "      <td>400.0</td>\n",
       "      <td>24000000</td>\n",
       "      <td>Edgard</td>\n",
       "    </tr>\n",
       "    <tr>\n",
       "      <th>7</th>\n",
       "      <td>Makepe</td>\n",
       "      <td>220.0</td>\n",
       "      <td>28600000</td>\n",
       "      <td>Edgard</td>\n",
       "    </tr>\n",
       "    <tr>\n",
       "      <th>8</th>\n",
       "      <td>Logbessou</td>\n",
       "      <td>500.0</td>\n",
       "      <td>20000000</td>\n",
       "      <td>Edgard</td>\n",
       "    </tr>\n",
       "  </tbody>\n",
       "</table>\n",
       "</div>"
      ],
      "text/plain": [
       "     Location   Area     Price                Seller\n",
       "0  Ngaoundéré  500.0   5000000        DJUNTU MICHAEL\n",
       "1       Lendi  500.0     30000   Orlande  ngalibassa\n",
       "2      Logpom  300.0     35000  Serge global service\n",
       "3       Kotto  650.0     60000                Edgard\n",
       "4       Kotto  515.0  38625000                Edgard\n",
       "5       Kotto  400.0  24000000                Edgard\n",
       "6       Kotto  400.0  24000000                Edgard\n",
       "7      Makepe  220.0  28600000                Edgard\n",
       "8   Logbessou  500.0  20000000                Edgard"
      ]
     },
     "execution_count": 138,
     "metadata": {},
     "output_type": "execute_result"
    }
   ],
   "source": [
    "data = pd.DataFrame(items_list)\n",
    "data"
   ]
  },
  {
   "cell_type": "code",
   "execution_count": 140,
   "id": "a93ae3b4-e898-4c34-966f-5d2f87c1e5da",
   "metadata": {},
   "outputs": [],
   "source": [
    "# save as csv file\n",
    "data.to_csv('land_price_data.csv', index=False)"
   ]
  },
  {
   "cell_type": "code",
   "execution_count": null,
   "id": "c2f64622-6d01-4f45-8d07-494a538c46ec",
   "metadata": {},
   "outputs": [],
   "source": []
  }
 ],
 "metadata": {
  "kernelspec": {
   "display_name": "Python 3 (ipykernel)",
   "language": "python",
   "name": "python3"
  },
  "language_info": {
   "codemirror_mode": {
    "name": "ipython",
    "version": 3
   },
   "file_extension": ".py",
   "mimetype": "text/x-python",
   "name": "python",
   "nbconvert_exporter": "python",
   "pygments_lexer": "ipython3",
   "version": "3.9.7"
  }
 },
 "nbformat": 4,
 "nbformat_minor": 5
}
